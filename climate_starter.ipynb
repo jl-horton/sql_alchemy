{
 "cells": [
  {
   "cell_type": "code",
   "execution_count": 2,
   "metadata": {},
   "outputs": [],
   "source": [
    "%matplotlib inline\n",
    "from matplotlib import style\n",
    "style.use('fivethirtyeight')\n",
    "import matplotlib.pyplot as plt"
   ]
  },
  {
   "cell_type": "code",
   "execution_count": 3,
   "metadata": {},
   "outputs": [],
   "source": [
    "import numpy as np\n",
    "import pandas as pd"
   ]
  },
  {
   "cell_type": "code",
   "execution_count": 4,
   "metadata": {},
   "outputs": [],
   "source": [
    "import datetime as dt"
   ]
  },
  {
   "cell_type": "markdown",
   "metadata": {},
   "source": [
    "# Reflect Tables into SQLAlchemy ORM"
   ]
  },
  {
   "cell_type": "code",
   "execution_count": 5,
   "metadata": {},
   "outputs": [],
   "source": [
    "# Python SQL toolkit and Object Relational Mapper\r\n",
    "import sqlalchemy\r\n",
    "from sqlalchemy.ext.automap import automap_base\r\n",
    "from sqlalchemy.orm import Session\r\n",
    "from sqlalchemy import create_engine, func, inspect"
   ]
  },
  {
   "cell_type": "code",
   "execution_count": 6,
   "metadata": {},
   "outputs": [],
   "source": [
    "engine = create_engine(\"sqlite:///../Resources/hawaii.sqlite\", echo = False)"
   ]
  },
  {
   "cell_type": "code",
   "execution_count": 7,
   "metadata": {},
   "outputs": [],
   "source": [
    "# reflect an existing database into a new model\r\n",
    "Base = automap_base()\r\n",
    "\r\n",
    "# reflect the tables\r\n",
    "Base.prepare(engine, reflect=True)"
   ]
  },
  {
   "cell_type": "code",
   "execution_count": 8,
   "metadata": {},
   "outputs": [
    {
     "data": {
      "text/plain": "['measurement', 'station']"
     },
     "execution_count": 8,
     "metadata": {},
     "output_type": "execute_result"
    }
   ],
   "source": [
    "# We can view all of the classes that automap found\r\n",
    "Base.classes.keys()"
   ]
  },
  {
   "cell_type": "code",
   "execution_count": 9,
   "metadata": {},
   "outputs": [],
   "source": [
    "# Save references to each table\r\n",
    "Measurement = Base.classes.measurement\r\n",
    "Station = Base.classes.station"
   ]
  },
  {
   "cell_type": "code",
   "execution_count": 10,
   "metadata": {},
   "outputs": [],
   "source": [
    "# Create our session (link) from Python to the DB\r\n",
    "session = Session(engine)"
   ]
  },
  {
   "cell_type": "code",
   "execution_count": 11,
   "metadata": {},
   "outputs": [
    {
     "name": "stdout",
     "output_type": "stream",
     "text": [
      "id INTEGER\n",
      "station TEXT\n",
      "date TEXT\n",
      "prcp FLOAT\n",
      "tobs FLOAT\n"
     ]
    }
   ],
   "source": [
    "inspector = inspect(engine)\r\n",
    "columns = inspector.get_columns('measurement')\r\n",
    "for column in columns:\r\n",
    "    print(column['name'], column['type'])"
   ]
  },
  {
   "cell_type": "code",
   "execution_count": 12,
   "metadata": {},
   "outputs": [
    {
     "data": {
      "text/plain": "[(1, 'USC00519397', '2010-01-01', 0.08, 65.0),\n (2, 'USC00519397', '2010-01-02', 0.0, 63.0),\n (3, 'USC00519397', '2010-01-03', 0.0, 74.0),\n (4, 'USC00519397', '2010-01-04', 0.0, 76.0),\n (5, 'USC00519397', '2010-01-06', None, 73.0)]"
     },
     "execution_count": 12,
     "metadata": {},
     "output_type": "execute_result"
    }
   ],
   "source": [
    "engine.execute('SELECT * FROM measurement LIMIT 5').fetchall()"
   ]
  },
  {
   "cell_type": "code",
   "execution_count": 13,
   "metadata": {},
   "outputs": [
    {
     "name": "stdout",
     "output_type": "stream",
     "text": [
      "id INTEGER\n",
      "station TEXT\n",
      "name TEXT\n",
      "latitude FLOAT\n",
      "longitude FLOAT\n",
      "elevation FLOAT\n"
     ]
    }
   ],
   "source": [
    "inspector = inspect(engine)\r\n",
    "columns = inspector.get_columns('station')\r\n",
    "for col in columns:\r\n",
    "    print(col['name'], col['type'])"
   ]
  },
  {
   "cell_type": "code",
   "execution_count": 14,
   "metadata": {},
   "outputs": [
    {
     "data": {
      "text/plain": "[(1, 'USC00519397', 'WAIKIKI 717.2, HI US', 21.2716, -157.8168, 3.0),\n (2, 'USC00513117', 'KANEOHE 838.1, HI US', 21.4234, -157.8015, 14.6),\n (3, 'USC00514830', 'KUALOA RANCH HEADQUARTERS 886.9, HI US', 21.5213, -157.8374, 7.0),\n (4, 'USC00517948', 'PEARL CITY, HI US', 21.3934, -157.9751, 11.9),\n (5, 'USC00518838', 'UPPER WAHIAWA 874.3, HI US', 21.4992, -158.0111, 306.6),\n (6, 'USC00519523', 'WAIMANALO EXPERIMENTAL FARM, HI US', 21.33556, -157.71139, 19.5),\n (7, 'USC00519281', 'WAIHEE 837.5, HI US', 21.45167, -157.84888999999998, 32.9),\n (8, 'USC00511918', 'HONOLULU OBSERVATORY 702.2, HI US', 21.3152, -157.9992, 0.9),\n (9, 'USC00516128', 'MANOA LYON ARBO 785.2, HI US', 21.3331, -157.8025, 152.4)]"
     },
     "execution_count": 14,
     "metadata": {},
     "output_type": "execute_result"
    }
   ],
   "source": [
    "engine.execute('SELECT * FROM station').fetchall()"
   ]
  },
  {
   "cell_type": "markdown",
   "metadata": {},
   "source": [
    "# Exploratory Climate Analysis"
   ]
  },
  {
   "cell_type": "markdown",
   "metadata": {},
   "source": [
    "Design a query to retrieve the last 12 months of precipitation data and plot the results"
   ]
  },
  {
   "cell_type": "code",
   "execution_count": 15,
   "metadata": {},
   "outputs": [
    {
     "data": {
      "text/plain": "('2017-08-23')"
     },
     "execution_count": 15,
     "metadata": {},
     "output_type": "execute_result"
    }
   ],
   "source": [
    "# Calculate the date 1 year ago from the last data point in the database\r\n",
    "last_data_point = session.query(Measurement.date).order_by(Measurement.date.desc()).first()\r\n",
    "last_data_point"
   ]
  },
  {
   "cell_type": "code",
   "execution_count": 16,
   "metadata": {},
   "outputs": [
    {
     "name": "stdout",
     "output_type": "stream",
     "text": [
      "2016-08-23\n"
     ]
    }
   ],
   "source": [
    "year_ago = dt.date(2017,8,23) - dt.timedelta(days= 365)\r\n",
    "print(year_ago)"
   ]
  },
  {
   "cell_type": "code",
   "execution_count": 17,
   "metadata": {},
   "outputs": [],
   "source": [
    "# Perform a query to retrieve the data and precipitation scores\r\n",
    "year_prcp = session.query(Measurement.date, Measurement.prcp).\\\r\n",
    "    filter(Measurement.date >= year_ago, Measurement.prcp).\\\r\n",
    "    order_by(Measurement.date).all()"
   ]
  },
  {
   "cell_type": "code",
   "execution_count": 18,
   "metadata": {},
   "outputs": [
    {
     "data": {
      "text/html": "<div>\n<style scoped>\n    .dataframe tbody tr th:only-of-type {\n        vertical-align: middle;\n    }\n\n    .dataframe tbody tr th {\n        vertical-align: top;\n    }\n\n    .dataframe thead th {\n        text-align: right;\n    }\n</style>\n<table border=\"1\" class=\"dataframe\">\n  <thead>\n    <tr style=\"text-align: right;\">\n      <th></th>\n      <th>Precipitation</th>\n    </tr>\n    <tr>\n      <th>Date</th>\n      <th></th>\n    </tr>\n  </thead>\n  <tbody>\n    <tr>\n      <th>2016-08-23</th>\n      <td>0.15</td>\n    </tr>\n    <tr>\n      <th>2016-08-23</th>\n      <td>0.05</td>\n    </tr>\n    <tr>\n      <th>2016-08-23</th>\n      <td>0.02</td>\n    </tr>\n    <tr>\n      <th>2016-08-23</th>\n      <td>1.79</td>\n    </tr>\n    <tr>\n      <th>2016-08-23</th>\n      <td>0.70</td>\n    </tr>\n    <tr>\n      <th>...</th>\n      <td>...</td>\n    </tr>\n    <tr>\n      <th>2017-08-21</th>\n      <td>0.02</td>\n    </tr>\n    <tr>\n      <th>2017-08-21</th>\n      <td>0.56</td>\n    </tr>\n    <tr>\n      <th>2017-08-22</th>\n      <td>0.50</td>\n    </tr>\n    <tr>\n      <th>2017-08-23</th>\n      <td>0.08</td>\n    </tr>\n    <tr>\n      <th>2017-08-23</th>\n      <td>0.45</td>\n    </tr>\n  </tbody>\n</table>\n<p>1147 rows × 1 columns</p>\n</div>",
      "text/plain": "            Precipitation\nDate                     \n2016-08-23           0.15\n2016-08-23           0.05\n2016-08-23           0.02\n2016-08-23           1.79\n2016-08-23           0.70\n...                   ...\n2017-08-21           0.02\n2017-08-21           0.56\n2017-08-22           0.50\n2017-08-23           0.08\n2017-08-23           0.45\n\n[1147 rows x 1 columns]"
     },
     "execution_count": 18,
     "metadata": {},
     "output_type": "execute_result"
    }
   ],
   "source": [
    "# Save the query results as a Pandas DataFrame and set the index to the date column\r\n",
    "# Then sort the dataframe by date\r\n",
    "prcp_df = pd.DataFrame(year_prcp, columns=['Date', 'Precipitation'])\r\n",
    "prcp_df.set_index('Date', inplace=True)\r\n",
    "prcp_df"
   ]
  },
  {
   "cell_type": "code",
   "execution_count": 19,
   "metadata": {},
   "outputs": [
    {
     "data": {
      "image/png": "[encoded data removed]",
      "text/plain": "<Figure size 504x360 with 1 Axes>"
     },
     "metadata": {},
     "output_type": "display_data"
    }
   ],
   "source": [
    "# Use Pandas Plotting with Matplotlib to plot the data\r\n",
    "prcp_df.plot(figsize=(7,5))\r\n",
    "plt.tight_layout()\r\n",
    "plt.savefig('Precipitation plot')"
   ]
  },
  {
   "cell_type": "code",
   "execution_count": 20,
   "metadata": {},
   "outputs": [
    {
     "data": {
      "text/html": "<div>\n<style scoped>\n    .dataframe tbody tr th:only-of-type {\n        vertical-align: middle;\n    }\n\n    .dataframe tbody tr th {\n        vertical-align: top;\n    }\n\n    .dataframe thead th {\n        text-align: right;\n    }\n</style>\n<table border=\"1\" class=\"dataframe\">\n  <thead>\n    <tr style=\"text-align: right;\">\n      <th></th>\n      <th>Precipitation</th>\n    </tr>\n  </thead>\n  <tbody>\n    <tr>\n      <th>count</th>\n      <td>1147.000000</td>\n    </tr>\n    <tr>\n      <th>mean</th>\n      <td>0.312363</td>\n    </tr>\n    <tr>\n      <th>std</th>\n      <td>0.576781</td>\n    </tr>\n    <tr>\n      <th>min</th>\n      <td>0.010000</td>\n    </tr>\n    <tr>\n      <th>25%</th>\n      <td>0.030000</td>\n    </tr>\n    <tr>\n      <th>50%</th>\n      <td>0.100000</td>\n    </tr>\n    <tr>\n      <th>75%</th>\n      <td>0.310000</td>\n    </tr>\n    <tr>\n      <th>max</th>\n      <td>6.700000</td>\n    </tr>\n  </tbody>\n</table>\n</div>",
      "text/plain": "       Precipitation\ncount    1147.000000\nmean        0.312363\nstd         0.576781\nmin         0.010000\n25%         0.030000\n50%         0.100000\n75%         0.310000\nmax         6.700000"
     },
     "execution_count": 20,
     "metadata": {},
     "output_type": "execute_result"
    }
   ],
   "source": [
    "# Use Pandas to calculate the summary statistics for the precipitation data\r\n",
    "prcp_df.describe()"
   ]
  },
  {
   "cell_type": "code",
   "execution_count": 21,
   "metadata": {},
   "outputs": [
    {
     "data": {
      "text/plain": "9"
     },
     "execution_count": 21,
     "metadata": {},
     "output_type": "execute_result"
    }
   ],
   "source": [
    "# Design a query to show how many stations are available in this dataset?\r\n",
    "session.query(Measurement.station).distinct().count()"
   ]
  },
  {
   "cell_type": "code",
   "execution_count": 22,
   "metadata": {},
   "outputs": [
    {
     "data": {
      "text/plain": "[('USC00519281', 2772),\n ('USC00519397', 2724),\n ('USC00513117', 2709),\n ('USC00519523', 2669),\n ('USC00516128', 2612),\n ('USC00514830', 2202),\n ('USC00511918', 1979),\n ('USC00517948', 1372),\n ('USC00518838', 511)]"
     },
     "execution_count": 22,
     "metadata": {},
     "output_type": "execute_result"
    }
   ],
   "source": [
    "# What are the most active stations? (i.e. what stations have the most rows)?\r\n",
    "# List the stations and the counts in descending order.\r\n",
    "active_stations = session.query(Measurement.station,func.count(Measurement.station)).\\\r\n",
    "    group_by(Measurement.station).\\\r\n",
    "        order_by(func.count(Measurement.station).desc()).all()\r\n",
    "active_stations"
   ]
  },
  {
   "cell_type": "code",
   "execution_count": 23,
   "metadata": {},
   "outputs": [
    {
     "data": {
      "text/plain": "[(54.0, 85.0, 71.66378066378067)]"
     },
     "execution_count": 23,
     "metadata": {},
     "output_type": "execute_result"
    }
   ],
   "source": [
    "# Using the station id from the previous query, calculate the lowest temperature recorded, \r\n",
    "# highest temperature recorded, and average temperature of the most active station?\r\n",
    "result = session.query(func.min(Measurement.tobs),func.max(Measurement.tobs),func.avg(Measurement.tobs)).\\\r\n",
    "    filter(Measurement.station == 'USC00519281').order_by(func.min(Measurement.tobs)).all()\r\n",
    "result"
   ]
  },
  {
   "cell_type": "code",
   "execution_count": 24,
   "metadata": {},
   "outputs": [],
   "source": [
    "# Choose the station with the highest number of temperature observations.\r\n",
    "# Query the last 12 months of temperature observation data for this station and plot the results as a histogram\r\n",
    "highest_obs = session.query(Measurement.tobs).\\\r\n",
    "    filter(Measurement.date >= year_ago, Measurement.station == 'USC00519281').\\\r\n",
    "    order_by(Measurement.tobs).all()"
   ]
  },
  {
   "cell_type": "code",
   "execution_count": 25,
   "metadata": {},
   "outputs": [
    {
     "data": {
      "text/html": "<div>\n<style scoped>\n    .dataframe tbody tr th:only-of-type {\n        vertical-align: middle;\n    }\n\n    .dataframe tbody tr th {\n        vertical-align: top;\n    }\n\n    .dataframe thead th {\n        text-align: right;\n    }\n</style>\n<table border=\"1\" class=\"dataframe\">\n  <thead>\n    <tr style=\"text-align: right;\">\n      <th></th>\n      <th>Tobs</th>\n    </tr>\n  </thead>\n  <tbody>\n    <tr>\n      <th>0</th>\n      <td>59.0</td>\n    </tr>\n    <tr>\n      <th>1</th>\n      <td>59.0</td>\n    </tr>\n    <tr>\n      <th>2</th>\n      <td>59.0</td>\n    </tr>\n    <tr>\n      <th>3</th>\n      <td>60.0</td>\n    </tr>\n    <tr>\n      <th>4</th>\n      <td>60.0</td>\n    </tr>\n    <tr>\n      <th>...</th>\n      <td>...</td>\n    </tr>\n    <tr>\n      <th>347</th>\n      <td>81.0</td>\n    </tr>\n    <tr>\n      <th>348</th>\n      <td>82.0</td>\n    </tr>\n    <tr>\n      <th>349</th>\n      <td>82.0</td>\n    </tr>\n    <tr>\n      <th>350</th>\n      <td>82.0</td>\n    </tr>\n    <tr>\n      <th>351</th>\n      <td>83.0</td>\n    </tr>\n  </tbody>\n</table>\n<p>352 rows × 1 columns</p>\n</div>",
      "text/plain": "     Tobs\n0    59.0\n1    59.0\n2    59.0\n3    60.0\n4    60.0\n..    ...\n347  81.0\n348  82.0\n349  82.0\n350  82.0\n351  83.0\n\n[352 rows x 1 columns]"
     },
     "execution_count": 25,
     "metadata": {},
     "output_type": "execute_result"
    }
   ],
   "source": [
    "highest_obs_df = pd.DataFrame(highest_obs, columns=['Tobs'])\r\n",
    "highest_obs_df"
   ]
  },
  {
   "cell_type": "code",
   "execution_count": 26,
   "metadata": {},
   "outputs": [
    {
     "data": {
      "image/png": "[encoded data removed]",
      "text/plain": "<Figure size 432x288 with 1 Axes>"
     },
     "metadata": {},
     "output_type": "display_data"
    }
   ],
   "source": [
    "bins = 12\r\n",
    "highest_obs_df.plot.hist(highest_obs, bins)\r\n",
    "plt.ylim(0,75)\r\n",
    "plt.savefig('Tobs plot')"
   ]
  },
  {
   "cell_type": "markdown",
   "metadata": {},
   "source": [
    "## Bonus Challenge Assignment"
   ]
  },
  {
   "cell_type": "code",
   "execution_count": 27,
   "metadata": {},
   "outputs": [
    {
     "name": "stdout",
     "output_type": "stream",
     "text": [
      "[(62.0, 69.57142857142857, 74.0)]\n"
     ]
    }
   ],
   "source": [
    "# This function called `calc_temps` will accept start date and end date in the format '%Y-%m-%d' \n",
    "# and return the minimum, average, and maximum temperatures for that range of dates\n",
    "def calc_temps(start_date, end_date):\n",
    "    \"\"\"TMIN, TAVG, and TMAX for a list of dates.\n",
    "    \n",
    "    Args:\n",
    "        start_date (string): A date string in the format %Y-%m-%d\n",
    "        end_date (string): A date string in the format %Y-%m-%d\n",
    "        \n",
    "    Returns:\n",
    "        TMIN, TAVE, and TMAX\n",
    "    \"\"\"\n",
    "    \n",
    "    return session.query(func.min(Measurement.tobs), func.avg(Measurement.tobs), func.max(Measurement.tobs)).\\\n",
    "        filter(Measurement.date >= start_date).filter(Measurement.date <= end_date).all()\n",
    "\n",
    "# function usage example\n",
    "print(calc_temps('2012-02-28', '2012-03-05'))"
   ]
  },
  {
   "cell_type": "code",
   "execution_count": 28,
   "metadata": {},
   "outputs": [
    {
     "name": "stdout",
     "output_type": "stream",
     "text": [
      "[(60.0, 68.04545454545455, 77.0)]\n"
     ]
    }
   ],
   "source": [
    "# Use your previous function `calc_temps` to calculate the tmin, tavg, and tmax \r\n",
    "# for your trip using the previous year's data for those same dates.\r\n",
    "prev_year_start = dt.date(2017, 12, 31) - dt.timedelta(days=365)\r\n",
    "prev_year_end = prev_year_start + dt.timedelta(days=10)\r\n",
    "calc_temp = calc_temps(prev_year_start, prev_year_end)\r\n",
    "print(calc_temp)"
   ]
  },
  {
   "cell_type": "code",
   "execution_count": 29,
   "metadata": {},
   "outputs": [],
   "source": [
    "# Plot the results from your previous query as a bar chart. \r\n",
    "# Use \"Trip Avg Temp\" as your Title\r\n",
    "# Use the average temperature for the y value\r\n",
    "# Use the peak-to-peak (tmax-tmin) value as the y error bar (yerr)\r\n",
    "ta_temp = list(np.ravel(calc_temp))\r\n",
    "#ta_temp\r\n",
    "tmin = ta_temp[0]\r\n",
    "tmax = ta_temp[2]\r\n",
    "temp_avg = ta_temp[1]"
   ]
  },
  {
   "cell_type": "code",
   "execution_count": 30,
   "metadata": {},
   "outputs": [
    {
     "data": {
      "image/png": "[encoded data removed]",
      "text/plain": "<Figure size 216x576 with 1 Axes>"
     },
     "metadata": {},
     "output_type": "display_data"
    }
   ],
   "source": [
    "plt.figure(figsize=(3,8))\r\n",
    "plt.bar(1, temp_avg, color = 'purple', alpha = 0.5)\r\n",
    "plt.errorbar(1,temp_avg, yerr=(tmax - tmin), color = 'green')\r\n",
    "plt.ylim(1 ,100)\r\n",
    "plt.xticks([])\r\n",
    "plt.title('Trip Avg Temp')\r\n",
    "plt.ylabel('Temp (F)')\r\n",
    "plt.tight_layout()\r\n",
    "plt.savefig('Trip Avg Temp plot')"
   ]
  },
  {
   "cell_type": "code",
   "execution_count": 31,
   "metadata": {},
   "outputs": [
    {
     "name": "stdout",
     "output_type": "stream",
     "text": [
      "[('USC00516128', 'MANOA LYON ARBO 785.2, HI US', 21.3331, -157.8025, 152.4, 1.53), ('USC00514830', 'KUALOA RANCH HEADQUARTERS 886.9, HI US', 21.5213, -157.8374, 7.0, 0.99), ('USC00513117', 'KANEOHE 838.1, HI US', 21.4234, -157.8015, 14.6, 0.97), ('USC00519523', 'WAIMANALO EXPERIMENTAL FARM, HI US', 21.33556, -157.71139, 19.5, 0.61), ('USC00519281', 'WAIHEE 837.5, HI US', 21.45167, -157.84888999999998, 32.9, 0.45000000000000007), ('USC00519397', 'WAIKIKI 717.2, HI US', 21.2716, -157.8168, 3.0, 0.01)]\n"
     ]
    }
   ],
   "source": [
    "# Calculate the total amount of rainfall per weather station for your trip dates using the previous year's matching dates.\r\n",
    "# Sort this in descending order by precipitation amount and list the station, name, latitude, longitude, and elevation\r\n",
    "rainfall_station = session.query(Station.station, Station.name, Station.latitude, Station.longitude, Station.elevation,\r\n",
    "        func.sum(Measurement.prcp)).\\\r\n",
    "            filter(Measurement.date >= prev_year_start, Measurement.date <= prev_year_end).\\\r\n",
    "            filter(Measurement.prcp != None).\\\r\n",
    "            filter(Station.station == Measurement.station).\\\r\n",
    "            group_by(Measurement.station).\\\r\n",
    "            order_by(func.sum(Measurement.prcp).desc()).all()\r\n",
    "print(rainfall_station)\r\n"
   ]
  },
  {
   "cell_type": "code",
   "execution_count": 32,
   "metadata": {},
   "outputs": [
    {
     "data": {
      "text/plain": "[(62.0, 69.15384615384616, 77.0)]"
     },
     "execution_count": 32,
     "metadata": {},
     "output_type": "execute_result"
    }
   ],
   "source": [
    "# Create a query that will calculate the daily normals \n",
    "# (i.e. the averages for tmin, tmax, and tavg for all historic data matching a specific month and day)\n",
    "\n",
    "def daily_normals(date):\n",
    "    \"\"\"Daily Normals.\n",
    "    \n",
    "    Args:\n",
    "        date (str): A date string in the format '%m-%d'\n",
    "        \n",
    "    Returns:\n",
    "        A list of tuples containing the daily normals, tmin, tavg, and tmax\n",
    "    \n",
    "    \"\"\"\n",
    "    \n",
    "    sel = [func.min(Measurement.tobs), func.avg(Measurement.tobs), func.max(Measurement.tobs)]\n",
    "    return session.query(*sel).filter(func.strftime(\"%m-%d\", Measurement.date) == date).all()\n",
    "    \n",
    "daily_normals(\"01-01\")"
   ]
  },
  {
   "cell_type": "code",
   "execution_count": 45,
   "metadata": {},
   "outputs": [
    {
     "data": {
      "text/plain": "[(61.0, 72.28813559322033, 80.0),\n (67.0, 71.57142857142857, 77.0),\n (63.0, 71.10526315789474, 78.0),\n (66.0, 72.10526315789474, 77.0),\n (62.0, 71.6140350877193, 78.0),\n (64.0, 71.40350877192982, 79.0),\n (65.0, 72.49180327868852, 82.0),\n (65.0, 72.22413793103448, 80.0),\n (64.0, 71.52542372881356, 79.0),\n (65.0, 72.75, 81.0),\n (61.0, 71.79310344827586, 79.0)]"
     },
     "execution_count": 45,
     "metadata": {},
     "output_type": "execute_result"
    }
   ],
   "source": [
    "# calculate the daily normals for your trip\r\n",
    "# push each tuple of calculations into a list called `normals`\r\n",
    "\r\n",
    "# Set the start and end date of the trip\r\n",
    "start_date = dt.datetime.strptime('2017-04-05', '%Y-%m-%d')\r\n",
    "end_date = dt.datetime.strptime('2017-04-15', '%Y-%m-%d')\r\n",
    "\r\n",
    "normals = []\r\n",
    "dt_list = []\r\n",
    "\r\n",
    "iter_date = start_date\r\n",
    "while iter_date <= end_date:\r\n",
    "    dt_list.append(iter_date)\r\n",
    "    st_str_dt = iter_date.strftime('%m-%d')\r\n",
    "\r\n",
    "    iter_date += dt.timedelta(1)\r\n",
    "    normals.append(*daily_normals(st_str_dt))\r\n",
    "\r\n",
    "normals\r\n",
    "# Use the start and end date to create a range of dates\r\n",
    "\r\n",
    "# Stip off the year and save a list of %m-%d strings\r\n",
    "\r\n",
    "# Loop through the list of %m-%d strings and calculate the normals for each date\r\n"
   ]
  },
  {
   "cell_type": "code",
   "execution_count": 46,
   "metadata": {},
   "outputs": [
    {
     "data": {
      "text/html": "<div>\n<style scoped>\n    .dataframe tbody tr th:only-of-type {\n        vertical-align: middle;\n    }\n\n    .dataframe tbody tr th {\n        vertical-align: top;\n    }\n\n    .dataframe thead th {\n        text-align: right;\n    }\n</style>\n<table border=\"1\" class=\"dataframe\">\n  <thead>\n    <tr style=\"text-align: right;\">\n      <th></th>\n      <th>tmin</th>\n      <th>tavg</th>\n      <th>tmax</th>\n    </tr>\n    <tr>\n      <th>Date</th>\n      <th></th>\n      <th></th>\n      <th></th>\n    </tr>\n  </thead>\n  <tbody>\n    <tr>\n      <th>2017-04-05</th>\n      <td>61.0</td>\n      <td>72.288136</td>\n      <td>80.0</td>\n    </tr>\n    <tr>\n      <th>2017-04-06</th>\n      <td>67.0</td>\n      <td>71.571429</td>\n      <td>77.0</td>\n    </tr>\n    <tr>\n      <th>2017-04-07</th>\n      <td>63.0</td>\n      <td>71.105263</td>\n      <td>78.0</td>\n    </tr>\n    <tr>\n      <th>2017-04-08</th>\n      <td>66.0</td>\n      <td>72.105263</td>\n      <td>77.0</td>\n    </tr>\n    <tr>\n      <th>2017-04-09</th>\n      <td>62.0</td>\n      <td>71.614035</td>\n      <td>78.0</td>\n    </tr>\n    <tr>\n      <th>2017-04-10</th>\n      <td>64.0</td>\n      <td>71.403509</td>\n      <td>79.0</td>\n    </tr>\n    <tr>\n      <th>2017-04-11</th>\n      <td>65.0</td>\n      <td>72.491803</td>\n      <td>82.0</td>\n    </tr>\n    <tr>\n      <th>2017-04-12</th>\n      <td>65.0</td>\n      <td>72.224138</td>\n      <td>80.0</td>\n    </tr>\n    <tr>\n      <th>2017-04-13</th>\n      <td>64.0</td>\n      <td>71.525424</td>\n      <td>79.0</td>\n    </tr>\n    <tr>\n      <th>2017-04-14</th>\n      <td>65.0</td>\n      <td>72.750000</td>\n      <td>81.0</td>\n    </tr>\n    <tr>\n      <th>2017-04-15</th>\n      <td>61.0</td>\n      <td>71.793103</td>\n      <td>79.0</td>\n    </tr>\n  </tbody>\n</table>\n</div>",
      "text/plain": "            tmin       tavg  tmax\nDate                             \n2017-04-05  61.0  72.288136  80.0\n2017-04-06  67.0  71.571429  77.0\n2017-04-07  63.0  71.105263  78.0\n2017-04-08  66.0  72.105263  77.0\n2017-04-09  62.0  71.614035  78.0\n2017-04-10  64.0  71.403509  79.0\n2017-04-11  65.0  72.491803  82.0\n2017-04-12  65.0  72.224138  80.0\n2017-04-13  64.0  71.525424  79.0\n2017-04-14  65.0  72.750000  81.0\n2017-04-15  61.0  71.793103  79.0"
     },
     "execution_count": 46,
     "metadata": {},
     "output_type": "execute_result"
    }
   ],
   "source": [
    "# Load the previous query results into a Pandas DataFrame and add the `trip_dates` range as the `date` index\r\n",
    "df2 = pd.DataFrame(normals, columns=['tmin', 'tavg', 'tmax'])\r\n",
    "df2['Date'] = pd.to_datetime(dt_list)\r\n",
    "df2.set_index('Date', inplace=True)\r\n",
    "df2"
   ]
  },
  {
   "cell_type": "code",
   "execution_count": 48,
   "metadata": {},
   "outputs": [
    {
     "data": {
      "image/png": "[encoded data removed]",
      "text/plain": "<Figure size 720x504 with 1 Axes>"
     },
     "metadata": {},
     "output_type": "display_data"
    }
   ],
   "source": [
    "# Plot the daily normals as an area plot with `stacked=False`\r\n",
    "df2.plot.area(stacked=False, alpha=0.2, figsize=(10,7))\r\n",
    "plt.xlabel('Date')\r\n",
    "plt.ylim(0, 85)\r\n",
    "plt.tight_layout()\r\n",
    "plt.savefig('Daily_Normals')"
   ]
  }
 ],
 "metadata": {
  "kernel_info": {
   "name": "python3"
  },
  "kernelspec": {
   "display_name": "Python 3.8.8 64-bit ('base': conda)",
   "name": "python388jvsc74a57bd01f9996f6f32af82c4e176a0a6d5057d1b4d3b6190a2312ab7d514f9db0090e01"
  },
  "language_info": {
   "codemirror_mode": {
    "name": "ipython",
    "version": 3
   },
   "file_extension": ".py",
   "mimetype": "text/x-python",
   "name": "python",
   "nbconvert_exporter": "python",
   "pygments_lexer": "ipython3",
   "version": "3.8.8"
  },
  "nteract": {
   "version": "0.12.3"
  },
  "varInspector": {
   "cols": {
    "lenName": 16,
    "lenType": 16,
    "lenVar": 40
   },
   "kernels_config": {
    "python": {
     "delete_cmd_postfix": "",
     "delete_cmd_prefix": "del ",
     "library": "var_list.py",
     "varRefreshCmd": "print(var_dic_list())"
    },
    "r": {
     "delete_cmd_postfix": ") ",
     "delete_cmd_prefix": "rm(",
     "library": "var_list.r",
     "varRefreshCmd": "cat(var_dic_list()) "
    }
   },
   "types_to_exclude": [
    "module",
    "function",
    "builtin_function_or_method",
    "instance",
    "_Feature"
   ],
   "window_display": false
  }
 },
 "nbformat": 4,
 "nbformat_minor": 2
}